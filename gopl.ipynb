{
 "cells": [
  {
   "cell_type": "code",
   "execution_count": 37,
   "metadata": {},
   "outputs": [],
   "source": [
    "!gofmt -w chap2"
   ]
  },
  {
   "cell_type": "code",
   "execution_count": 38,
   "metadata": {},
   "outputs": [
    {
     "name": "stdout",
     "output_type": "stream",
     "text": [
      "1°F = -17°C, 1°C = 34°F\r\n",
      "1 ft = 0.3 m, 1 m = 3.3 ft\r\n",
      "1 lbs = 0.45 lbs, 1 lbs = 2.2 lbs\r\n",
      "\r\n",
      "2°F = -17°C, 2°C = 36°F\r\n",
      "2 ft = 0.61 m, 2 m = 6.6 ft\r\n",
      "2 lbs = 0.91 lbs, 2 lbs = 4.4 lbs\r\n",
      "\r\n",
      "3°F = -16°C, 3°C = 37°F\r\n",
      "3 ft = 0.91 m, 3 m = 9.8 ft\r\n",
      "3 lbs = 1.4 lbs, 3 lbs = 6.6 lbs\r\n",
      "\r\n"
     ]
    }
   ],
   "source": [
    "!go run chap2/ex2/*.go 1 2 3 "
   ]
  }
 ],
 "metadata": {
  "kernelspec": {
   "display_name": "Python 3",
   "language": "python",
   "name": "python3"
  },
  "language_info": {
   "codemirror_mode": {
    "name": "ipython",
    "version": 3
   },
   "file_extension": ".py",
   "mimetype": "text/x-python",
   "name": "python",
   "nbconvert_exporter": "python",
   "pygments_lexer": "ipython3",
   "version": "3.6.9"
  }
 },
 "nbformat": 4,
 "nbformat_minor": 2
}
