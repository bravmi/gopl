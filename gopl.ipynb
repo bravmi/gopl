{
 "cells": [
  {
   "cell_type": "code",
   "execution_count": 1,
   "metadata": {},
   "outputs": [],
   "source": [
    "!gofmt -w chap2"
   ]
  },
  {
   "cell_type": "code",
   "execution_count": 2,
   "metadata": {},
   "outputs": [
    {
     "name": "stdout",
     "output_type": "stream",
     "text": [
      "2020/05/30 10:57:44 expected <number><unit>, got \"1\"\n",
      "exit status 1\n"
     ]
    }
   ],
   "source": [
    "!go run chap2/ex2/*.go 1 2 3 "
   ]
  },
  {
   "cell_type": "code",
   "execution_count": 49,
   "metadata": {},
   "outputs": [
    {
     "name": "stdout",
     "output_type": "stream",
     "text": [
      "goos: linux\n",
      "goarch: amd64\n",
      "pkg: github.com/bravmi/gopl/chap2/popcount\n",
      "BenchmarkPopCountTable-8       \t1000000000\t         0.513 ns/op\n",
      "BenchmarkPopCountTableLoop-8   \t77044416\t        14.5 ns/op\n",
      "BenchmarkPopCountShift-8       \t23359890\t        49.8 ns/op\n",
      "BenchmarkPopCountClear-8       \t1000000000\t         0.508 ns/op\n",
      "PASS\n",
      "ok  \tgithub.com/bravmi/gopl/chap2/popcount\t3.493s\n"
     ]
    }
   ],
   "source": [
    "!go test ./chap2/popcount -bench=."
   ]
  }
 ],
 "metadata": {
  "kernelspec": {
   "display_name": "Python 3",
   "language": "python",
   "name": "python3"
  },
  "language_info": {
   "codemirror_mode": {
    "name": "ipython",
    "version": 3
   },
   "file_extension": ".py",
   "mimetype": "text/x-python",
   "name": "python",
   "nbconvert_exporter": "python",
   "pygments_lexer": "ipython3",
   "version": "3.6.9"
  }
 },
 "nbformat": 4,
 "nbformat_minor": 2
}
